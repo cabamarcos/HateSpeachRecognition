{
  "cells": [
    {
      "cell_type": "markdown",
      "metadata": {
        "id": "view-in-github",
        "colab_type": "text"
      },
      "source": [
        "<a href=\"https://colab.research.google.com/github/cabamarcos/TAA_3/blob/main/Actividad_3.ipynb\" target=\"_parent\"><img src=\"https://colab.research.google.com/assets/colab-badge.svg\" alt=\"Open In Colab\"/></a>"
      ]
    },
    {
      "cell_type": "markdown",
      "id": "5f8f007d-7de6-4622-aa5d-3e2ed5210ac7",
      "metadata": {
        "id": "5f8f007d-7de6-4622-aa5d-3e2ed5210ac7"
      },
      "source": [
        "_Técnicas de Aprendizaje Automático_\n",
        "\n",
        "_Máster Universitario en Inteligencia Artificial_\n",
        "\n",
        "Grupo: Ismael García Mayorga, Marcos Caballero Cortés i Roger Juvé Vallès\n",
        "\n",
        "# Caso Grupal: Clasificación de mensajes de odio\n",
        "\n",
        "## Objetivos\n",
        "\n",
        "Mediante este trabajo se pretende que el estudiante ponga en práctica la aplicación de un proceso completo de machine learning a la clasificación de mensajes de odio.\n",
        "\n",
        "El objetivo es generar un proyecto completo de machine learning para clasificar mensajes de odio. Debe detallar los pasos que hay que realizar para la clasificación de mensajes, así como una evaluación de los resultados.\n",
        "\n",
        "- Decidir la técnica de aprendizaje automático a utilizar\n",
        "- Analizar diferentes modelos de aprendizaje supervisado para la clasificación de mensajes de odio.\n",
        "- Evaluar los resultados obtenidos por cada modelo en términos de precisión, recall, y f1.\n",
        "\n",
        "## Descripción de la actividad\n",
        "\n",
        "La empresa SureTech Innovations quiere implementar un clasificador de mensajes de odio. Para ello se deben entrenar diferentes modelos de clasificación, evaluar el rendimiento de cada uno de ellos, y finalmente, decidir cuál sería el mejor.\n",
        "\n",
        "Para llevar a cabo esta actividad cuentas con el dataset simplificado de HateSpeech en la siguiente URL: https://github.com/almudenaris/TAA/blob/main/out.csv\n",
        "\n",
        "Los pasos que se deben seguir para desarrollar esta actividad son:\n",
        "\n",
        "1.\t¿Qué tarea de aprendizaje automático se pretende resolver? ¿Qué análisis previos serían necesarios realizar para saber si es posible construir el modelo que buscamos? Realiza un análisis exploratorio de datos adecuado a la tarea que se pretende resolver y al dataset facilitado. Explica con detalle, en base a la tarea que se quiere resolver, qué análisis serían necesarios realizar sobre los datos.\n",
        "\n",
        "2.\tEn base a la tarea que se pide realizar y a las características del dataset decide qué algoritmo o algoritmos se deben utilizar. Implementa tres modelos. Realiza los entrenamientos necesarios para cada uno de ellos. Explica por qué son convenientes los algoritmos elegidos.\n",
        "\n",
        "3.\tRealiza una explicación de las métricas de evaluación que se deben utilizar para valorar la bondad del modelo. Justifica la decisión de las elegidas. ¿Cómo habría que evaluar el modelo? Evalúa los modelos entrenados en el punto anterior y explica los resultados obtenidos.\n",
        "\n",
        "\n",
        "## Dataset\n",
        "\n",
        "El dataset original proporcionado en el proyecto transversal ha sido adaptado para la realización de esta actividad. Esa adaptación ha incluido:\n",
        "\n",
        "- Eliminación de nulos y duplicados\n",
        "- Eliminación de URLs, emojis y menciones a los periódicos\n",
        "- Eliminación de filas vacías\n",
        "- Limpieza y homogeneización de datos.\n",
        "    - Convertir la totalidad del texto a minúscula\n",
        "    - Eliminar signos de puntuación\n",
        "    - Eliminar números\n",
        "    - Eliminar espacios en blanco adicionales\n",
        "    - Eliminar palabras con longitud menor a 2 caracteres\n",
        "    - Eliminar stopwords\n",
        "    - Tokenización\n",
        "    - Lematización\n",
        "- Proceso de extracción de características\n",
        "    - Conteo de palabras positivas (A)\n",
        "    - Conteo de palabras negativas (B)\n",
        "    - Conteo del número de bigrams más comunes (C)\n",
        "    - Conteo del número de menciones a otros usuarios (D)\n",
        "    - Categoría del sentimiento según librería ‘pysentimiento’ en español (E)\n",
        "\n",
        "- Estandarización de las características (A_t,..E_t)\n",
        "- Combinación de características f1*fi (iA..iE) (Valor1,..Valor10)."
      ]
    },
    {
      "cell_type": "code",
      "execution_count": null,
      "id": "4Ut7E-bCMF7b",
      "metadata": {
        "id": "4Ut7E-bCMF7b"
      },
      "outputs": [],
      "source": [
        "import pandas as pd\n",
        "import numpy as np\n",
        "import matplotlib.pyplot as plt"
      ]
    },
    {
      "cell_type": "markdown",
      "id": "60bf0f82-8971-45de-9797-7d55b62f5ede",
      "metadata": {
        "id": "60bf0f82-8971-45de-9797-7d55b62f5ede"
      },
      "source": [
        "## EDA"
      ]
    },
    {
      "cell_type": "markdown",
      "source": [
        "Nuestro objetivo para esta tarea es resolver un problema de clasificación, más específicamente, clasificar mensajes como mensajes de odio o no odio. Para lograr nuestro objetivo hemos usado un dataset que contiene las frases que ya analizadas y que vamos a clasificar. En este dataset se realiza una extracción de las caracteristicas de las palabras. Estas características extraídas serán las utilizadas para entrenar nuestro modelo. Se realizará un análisis para comprender como cada una de estas variables nos puede ayudar a entrenar nuestro modelo y como están distribuidas."
      ],
      "metadata": {
        "id": "HhKV5eR3SZXk"
      },
      "id": "HhKV5eR3SZXk"
    },
    {
      "cell_type": "code",
      "execution_count": null,
      "id": "e80d286b-af9d-4e4c-bdd3-0ee3fafa0e74",
      "metadata": {
        "colab": {
          "base_uri": "https://localhost:8080/"
        },
        "id": "e80d286b-af9d-4e4c-bdd3-0ee3fafa0e74",
        "outputId": "c69c4351-b270-4430-e93e-588f287567b2"
      },
      "outputs": [
        {
          "output_type": "stream",
          "name": "stdout",
          "text": [
            "Número de filas:  10000\n"
          ]
        }
      ],
      "source": [
        "# Cargamos el dataset\n",
        "df = pd.read_csv(\"out.csv\")\n",
        "\n",
        "# Mostramos el número de filas\n",
        "print(\"Número de filas:\", len(df))"
      ]
    },
    {
      "cell_type": "code",
      "source": [
        "df.head(10)"
      ],
      "metadata": {
        "colab": {
          "base_uri": "https://localhost:8080/",
          "height": 412
        },
        "id": "o6xzvZPfVuGD",
        "outputId": "8f624776-542d-4b96-f1e8-91f66e790922"
      },
      "id": "o6xzvZPfVuGD",
      "execution_count": null,
      "outputs": [
        {
          "output_type": "execute_result",
          "data": {
            "text/plain": [
              "   A   B   C  D  E                                         comentario  label  \\\n",
              "0  2  64  30  0  2  pandemia,originado,covid,cierto,incidencia,aba...    0.0   \n",
              "1  4  70  21  0  0  ser,mes,larga,espera,llegar,momento,siempre,pr...    0.0   \n",
              "2  4  88  50  0  0  cartagena,san,sebastiar,fuengirola,irun,orense...    0.0   \n",
              "3  3  38  21  0  0  pleno,dia,verano,calor,plan,mas,apetecibl,disf...    0.0   \n",
              "4  0  59  17  0  0  pasado,junio,celebro,dia,luchar,frente,leishma...    0.0   \n",
              "5  0   3   1  0  0  llegadar,vacación,ser,sinonimo,dejadez,olvidar...    0.0   \n",
              "6  7  50   6  0  0  hacer,año,demandar,cirugia,estetico,masculino,...    0.0   \n",
              "7  0  40   5  0  0  tono,ligeramente,bronceado,piel,aspecto,mas,at...    0.0   \n",
              "8  4  17   1  0  0  tradicionalmente,mundo,cosmetico,dirigido,muje...    0.0   \n",
              "9  2  64  12  0  0  edad,cronologico,aparecer,dni,ser,mismo,edad,b...    0.0   \n",
              "\n",
              "        A_t       B_t        C_t  ...    Valor_1    Valor_2   Valor_3  \\\n",
              "0  1.851102  2.759647   7.145831  ...   5.108388  13.227660 -0.771127   \n",
              "1  3.990202  3.054765   4.877255  ...  12.189130  19.461233 -1.662227   \n",
              "2  3.990202  3.940120  12.187108  ...  15.721875  48.629021 -1.662227   \n",
              "3  2.920652  1.480801   4.877255  ...   4.324903  14.244765 -1.216677   \n",
              "4 -0.287998  2.513715   3.869000  ...  -0.723945  -1.114264  0.119973   \n",
              "5 -0.287998 -0.240723  -0.164022  ...   0.069328   0.047238  0.119973   \n",
              "6  7.198852  2.071037   1.096297  ...  14.909091   7.892080 -2.998878   \n",
              "7 -0.287998  1.579174   0.844233  ...  -0.454799  -0.243137  0.119973   \n",
              "8  3.990202  0.447887  -0.164022  ...   1.787158  -0.654482 -1.662227   \n",
              "9  1.851102  2.759647   2.608680  ...   5.108388   4.828933 -0.771127   \n",
              "\n",
              "    Valor_4    Valor_5   Valor_6   Valor_7   Valor_8   Valor_9  Valor_10  \n",
              "0  0.815665  19.719970 -1.149606  1.216004 -2.976790  3.148722 -0.183560  \n",
              "1 -2.119191  14.898871 -1.272546 -1.622382 -2.031754 -2.590305  0.221244  \n",
              "2 -2.119191  48.018675 -1.641365 -2.092593 -5.076872 -6.472559  0.221244  \n",
              "3 -1.551155   7.222244 -0.616868 -0.786452 -2.031754 -2.590305  0.221244  \n",
              "4  0.152955   9.725563 -1.047156 -1.335031 -1.611737 -2.054821  0.221244  \n",
              "5  0.152955   0.039484  0.100280  0.127848  0.068328  0.087112  0.221244  \n",
              "6 -3.823302   2.270472 -0.862747 -1.099926 -0.456692 -0.582242  0.221244  \n",
              "7  0.152955   1.333191 -0.657848 -0.838697 -0.351688 -0.448371  0.221244  \n",
              "8 -2.119191  -0.073463 -0.186579 -0.237872  0.068328  0.087112  0.221244  \n",
              "9 -0.983118   7.199037 -1.149606 -1.465645 -1.086717 -1.385467  0.221244  \n",
              "\n",
              "[10 rows x 22 columns]"
            ],
            "text/html": [
              "\n",
              "  <div id=\"df-d01d4579-742e-4e9f-998e-1f1ea170ae05\" class=\"colab-df-container\">\n",
              "    <div>\n",
              "<style scoped>\n",
              "    .dataframe tbody tr th:only-of-type {\n",
              "        vertical-align: middle;\n",
              "    }\n",
              "\n",
              "    .dataframe tbody tr th {\n",
              "        vertical-align: top;\n",
              "    }\n",
              "\n",
              "    .dataframe thead th {\n",
              "        text-align: right;\n",
              "    }\n",
              "</style>\n",
              "<table border=\"1\" class=\"dataframe\">\n",
              "  <thead>\n",
              "    <tr style=\"text-align: right;\">\n",
              "      <th></th>\n",
              "      <th>A</th>\n",
              "      <th>B</th>\n",
              "      <th>C</th>\n",
              "      <th>D</th>\n",
              "      <th>E</th>\n",
              "      <th>comentario</th>\n",
              "      <th>label</th>\n",
              "      <th>A_t</th>\n",
              "      <th>B_t</th>\n",
              "      <th>C_t</th>\n",
              "      <th>...</th>\n",
              "      <th>Valor_1</th>\n",
              "      <th>Valor_2</th>\n",
              "      <th>Valor_3</th>\n",
              "      <th>Valor_4</th>\n",
              "      <th>Valor_5</th>\n",
              "      <th>Valor_6</th>\n",
              "      <th>Valor_7</th>\n",
              "      <th>Valor_8</th>\n",
              "      <th>Valor_9</th>\n",
              "      <th>Valor_10</th>\n",
              "    </tr>\n",
              "  </thead>\n",
              "  <tbody>\n",
              "    <tr>\n",
              "      <th>0</th>\n",
              "      <td>2</td>\n",
              "      <td>64</td>\n",
              "      <td>30</td>\n",
              "      <td>0</td>\n",
              "      <td>2</td>\n",
              "      <td>pandemia,originado,covid,cierto,incidencia,aba...</td>\n",
              "      <td>0.0</td>\n",
              "      <td>1.851102</td>\n",
              "      <td>2.759647</td>\n",
              "      <td>7.145831</td>\n",
              "      <td>...</td>\n",
              "      <td>5.108388</td>\n",
              "      <td>13.227660</td>\n",
              "      <td>-0.771127</td>\n",
              "      <td>0.815665</td>\n",
              "      <td>19.719970</td>\n",
              "      <td>-1.149606</td>\n",
              "      <td>1.216004</td>\n",
              "      <td>-2.976790</td>\n",
              "      <td>3.148722</td>\n",
              "      <td>-0.183560</td>\n",
              "    </tr>\n",
              "    <tr>\n",
              "      <th>1</th>\n",
              "      <td>4</td>\n",
              "      <td>70</td>\n",
              "      <td>21</td>\n",
              "      <td>0</td>\n",
              "      <td>0</td>\n",
              "      <td>ser,mes,larga,espera,llegar,momento,siempre,pr...</td>\n",
              "      <td>0.0</td>\n",
              "      <td>3.990202</td>\n",
              "      <td>3.054765</td>\n",
              "      <td>4.877255</td>\n",
              "      <td>...</td>\n",
              "      <td>12.189130</td>\n",
              "      <td>19.461233</td>\n",
              "      <td>-1.662227</td>\n",
              "      <td>-2.119191</td>\n",
              "      <td>14.898871</td>\n",
              "      <td>-1.272546</td>\n",
              "      <td>-1.622382</td>\n",
              "      <td>-2.031754</td>\n",
              "      <td>-2.590305</td>\n",
              "      <td>0.221244</td>\n",
              "    </tr>\n",
              "    <tr>\n",
              "      <th>2</th>\n",
              "      <td>4</td>\n",
              "      <td>88</td>\n",
              "      <td>50</td>\n",
              "      <td>0</td>\n",
              "      <td>0</td>\n",
              "      <td>cartagena,san,sebastiar,fuengirola,irun,orense...</td>\n",
              "      <td>0.0</td>\n",
              "      <td>3.990202</td>\n",
              "      <td>3.940120</td>\n",
              "      <td>12.187108</td>\n",
              "      <td>...</td>\n",
              "      <td>15.721875</td>\n",
              "      <td>48.629021</td>\n",
              "      <td>-1.662227</td>\n",
              "      <td>-2.119191</td>\n",
              "      <td>48.018675</td>\n",
              "      <td>-1.641365</td>\n",
              "      <td>-2.092593</td>\n",
              "      <td>-5.076872</td>\n",
              "      <td>-6.472559</td>\n",
              "      <td>0.221244</td>\n",
              "    </tr>\n",
              "    <tr>\n",
              "      <th>3</th>\n",
              "      <td>3</td>\n",
              "      <td>38</td>\n",
              "      <td>21</td>\n",
              "      <td>0</td>\n",
              "      <td>0</td>\n",
              "      <td>pleno,dia,verano,calor,plan,mas,apetecibl,disf...</td>\n",
              "      <td>0.0</td>\n",
              "      <td>2.920652</td>\n",
              "      <td>1.480801</td>\n",
              "      <td>4.877255</td>\n",
              "      <td>...</td>\n",
              "      <td>4.324903</td>\n",
              "      <td>14.244765</td>\n",
              "      <td>-1.216677</td>\n",
              "      <td>-1.551155</td>\n",
              "      <td>7.222244</td>\n",
              "      <td>-0.616868</td>\n",
              "      <td>-0.786452</td>\n",
              "      <td>-2.031754</td>\n",
              "      <td>-2.590305</td>\n",
              "      <td>0.221244</td>\n",
              "    </tr>\n",
              "    <tr>\n",
              "      <th>4</th>\n",
              "      <td>0</td>\n",
              "      <td>59</td>\n",
              "      <td>17</td>\n",
              "      <td>0</td>\n",
              "      <td>0</td>\n",
              "      <td>pasado,junio,celebro,dia,luchar,frente,leishma...</td>\n",
              "      <td>0.0</td>\n",
              "      <td>-0.287998</td>\n",
              "      <td>2.513715</td>\n",
              "      <td>3.869000</td>\n",
              "      <td>...</td>\n",
              "      <td>-0.723945</td>\n",
              "      <td>-1.114264</td>\n",
              "      <td>0.119973</td>\n",
              "      <td>0.152955</td>\n",
              "      <td>9.725563</td>\n",
              "      <td>-1.047156</td>\n",
              "      <td>-1.335031</td>\n",
              "      <td>-1.611737</td>\n",
              "      <td>-2.054821</td>\n",
              "      <td>0.221244</td>\n",
              "    </tr>\n",
              "    <tr>\n",
              "      <th>5</th>\n",
              "      <td>0</td>\n",
              "      <td>3</td>\n",
              "      <td>1</td>\n",
              "      <td>0</td>\n",
              "      <td>0</td>\n",
              "      <td>llegadar,vacación,ser,sinonimo,dejadez,olvidar...</td>\n",
              "      <td>0.0</td>\n",
              "      <td>-0.287998</td>\n",
              "      <td>-0.240723</td>\n",
              "      <td>-0.164022</td>\n",
              "      <td>...</td>\n",
              "      <td>0.069328</td>\n",
              "      <td>0.047238</td>\n",
              "      <td>0.119973</td>\n",
              "      <td>0.152955</td>\n",
              "      <td>0.039484</td>\n",
              "      <td>0.100280</td>\n",
              "      <td>0.127848</td>\n",
              "      <td>0.068328</td>\n",
              "      <td>0.087112</td>\n",
              "      <td>0.221244</td>\n",
              "    </tr>\n",
              "    <tr>\n",
              "      <th>6</th>\n",
              "      <td>7</td>\n",
              "      <td>50</td>\n",
              "      <td>6</td>\n",
              "      <td>0</td>\n",
              "      <td>0</td>\n",
              "      <td>hacer,año,demandar,cirugia,estetico,masculino,...</td>\n",
              "      <td>0.0</td>\n",
              "      <td>7.198852</td>\n",
              "      <td>2.071037</td>\n",
              "      <td>1.096297</td>\n",
              "      <td>...</td>\n",
              "      <td>14.909091</td>\n",
              "      <td>7.892080</td>\n",
              "      <td>-2.998878</td>\n",
              "      <td>-3.823302</td>\n",
              "      <td>2.270472</td>\n",
              "      <td>-0.862747</td>\n",
              "      <td>-1.099926</td>\n",
              "      <td>-0.456692</td>\n",
              "      <td>-0.582242</td>\n",
              "      <td>0.221244</td>\n",
              "    </tr>\n",
              "    <tr>\n",
              "      <th>7</th>\n",
              "      <td>0</td>\n",
              "      <td>40</td>\n",
              "      <td>5</td>\n",
              "      <td>0</td>\n",
              "      <td>0</td>\n",
              "      <td>tono,ligeramente,bronceado,piel,aspecto,mas,at...</td>\n",
              "      <td>0.0</td>\n",
              "      <td>-0.287998</td>\n",
              "      <td>1.579174</td>\n",
              "      <td>0.844233</td>\n",
              "      <td>...</td>\n",
              "      <td>-0.454799</td>\n",
              "      <td>-0.243137</td>\n",
              "      <td>0.119973</td>\n",
              "      <td>0.152955</td>\n",
              "      <td>1.333191</td>\n",
              "      <td>-0.657848</td>\n",
              "      <td>-0.838697</td>\n",
              "      <td>-0.351688</td>\n",
              "      <td>-0.448371</td>\n",
              "      <td>0.221244</td>\n",
              "    </tr>\n",
              "    <tr>\n",
              "      <th>8</th>\n",
              "      <td>4</td>\n",
              "      <td>17</td>\n",
              "      <td>1</td>\n",
              "      <td>0</td>\n",
              "      <td>0</td>\n",
              "      <td>tradicionalmente,mundo,cosmetico,dirigido,muje...</td>\n",
              "      <td>0.0</td>\n",
              "      <td>3.990202</td>\n",
              "      <td>0.447887</td>\n",
              "      <td>-0.164022</td>\n",
              "      <td>...</td>\n",
              "      <td>1.787158</td>\n",
              "      <td>-0.654482</td>\n",
              "      <td>-1.662227</td>\n",
              "      <td>-2.119191</td>\n",
              "      <td>-0.073463</td>\n",
              "      <td>-0.186579</td>\n",
              "      <td>-0.237872</td>\n",
              "      <td>0.068328</td>\n",
              "      <td>0.087112</td>\n",
              "      <td>0.221244</td>\n",
              "    </tr>\n",
              "    <tr>\n",
              "      <th>9</th>\n",
              "      <td>2</td>\n",
              "      <td>64</td>\n",
              "      <td>12</td>\n",
              "      <td>0</td>\n",
              "      <td>0</td>\n",
              "      <td>edad,cronologico,aparecer,dni,ser,mismo,edad,b...</td>\n",
              "      <td>0.0</td>\n",
              "      <td>1.851102</td>\n",
              "      <td>2.759647</td>\n",
              "      <td>2.608680</td>\n",
              "      <td>...</td>\n",
              "      <td>5.108388</td>\n",
              "      <td>4.828933</td>\n",
              "      <td>-0.771127</td>\n",
              "      <td>-0.983118</td>\n",
              "      <td>7.199037</td>\n",
              "      <td>-1.149606</td>\n",
              "      <td>-1.465645</td>\n",
              "      <td>-1.086717</td>\n",
              "      <td>-1.385467</td>\n",
              "      <td>0.221244</td>\n",
              "    </tr>\n",
              "  </tbody>\n",
              "</table>\n",
              "<p>10 rows × 22 columns</p>\n",
              "</div>\n",
              "    <div class=\"colab-df-buttons\">\n",
              "\n",
              "  <div class=\"colab-df-container\">\n",
              "    <button class=\"colab-df-convert\" onclick=\"convertToInteractive('df-d01d4579-742e-4e9f-998e-1f1ea170ae05')\"\n",
              "            title=\"Convert this dataframe to an interactive table.\"\n",
              "            style=\"display:none;\">\n",
              "\n",
              "  <svg xmlns=\"http://www.w3.org/2000/svg\" height=\"24px\" viewBox=\"0 -960 960 960\">\n",
              "    <path d=\"M120-120v-720h720v720H120Zm60-500h600v-160H180v160Zm220 220h160v-160H400v160Zm0 220h160v-160H400v160ZM180-400h160v-160H180v160Zm440 0h160v-160H620v160ZM180-180h160v-160H180v160Zm440 0h160v-160H620v160Z\"/>\n",
              "  </svg>\n",
              "    </button>\n",
              "\n",
              "  <style>\n",
              "    .colab-df-container {\n",
              "      display:flex;\n",
              "      gap: 12px;\n",
              "    }\n",
              "\n",
              "    .colab-df-convert {\n",
              "      background-color: #E8F0FE;\n",
              "      border: none;\n",
              "      border-radius: 50%;\n",
              "      cursor: pointer;\n",
              "      display: none;\n",
              "      fill: #1967D2;\n",
              "      height: 32px;\n",
              "      padding: 0 0 0 0;\n",
              "      width: 32px;\n",
              "    }\n",
              "\n",
              "    .colab-df-convert:hover {\n",
              "      background-color: #E2EBFA;\n",
              "      box-shadow: 0px 1px 2px rgba(60, 64, 67, 0.3), 0px 1px 3px 1px rgba(60, 64, 67, 0.15);\n",
              "      fill: #174EA6;\n",
              "    }\n",
              "\n",
              "    .colab-df-buttons div {\n",
              "      margin-bottom: 4px;\n",
              "    }\n",
              "\n",
              "    [theme=dark] .colab-df-convert {\n",
              "      background-color: #3B4455;\n",
              "      fill: #D2E3FC;\n",
              "    }\n",
              "\n",
              "    [theme=dark] .colab-df-convert:hover {\n",
              "      background-color: #434B5C;\n",
              "      box-shadow: 0px 1px 3px 1px rgba(0, 0, 0, 0.15);\n",
              "      filter: drop-shadow(0px 1px 2px rgba(0, 0, 0, 0.3));\n",
              "      fill: #FFFFFF;\n",
              "    }\n",
              "  </style>\n",
              "\n",
              "    <script>\n",
              "      const buttonEl =\n",
              "        document.querySelector('#df-d01d4579-742e-4e9f-998e-1f1ea170ae05 button.colab-df-convert');\n",
              "      buttonEl.style.display =\n",
              "        google.colab.kernel.accessAllowed ? 'block' : 'none';\n",
              "\n",
              "      async function convertToInteractive(key) {\n",
              "        const element = document.querySelector('#df-d01d4579-742e-4e9f-998e-1f1ea170ae05');\n",
              "        const dataTable =\n",
              "          await google.colab.kernel.invokeFunction('convertToInteractive',\n",
              "                                                    [key], {});\n",
              "        if (!dataTable) return;\n",
              "\n",
              "        const docLinkHtml = 'Like what you see? Visit the ' +\n",
              "          '<a target=\"_blank\" href=https://colab.research.google.com/notebooks/data_table.ipynb>data table notebook</a>'\n",
              "          + ' to learn more about interactive tables.';\n",
              "        element.innerHTML = '';\n",
              "        dataTable['output_type'] = 'display_data';\n",
              "        await google.colab.output.renderOutput(dataTable, element);\n",
              "        const docLink = document.createElement('div');\n",
              "        docLink.innerHTML = docLinkHtml;\n",
              "        element.appendChild(docLink);\n",
              "      }\n",
              "    </script>\n",
              "  </div>\n",
              "\n",
              "\n",
              "<div id=\"df-09c73896-1bec-4a9d-a0f6-f56a5b221075\">\n",
              "  <button class=\"colab-df-quickchart\" onclick=\"quickchart('df-09c73896-1bec-4a9d-a0f6-f56a5b221075')\"\n",
              "            title=\"Suggest charts\"\n",
              "            style=\"display:none;\">\n",
              "\n",
              "<svg xmlns=\"http://www.w3.org/2000/svg\" height=\"24px\"viewBox=\"0 0 24 24\"\n",
              "     width=\"24px\">\n",
              "    <g>\n",
              "        <path d=\"M19 3H5c-1.1 0-2 .9-2 2v14c0 1.1.9 2 2 2h14c1.1 0 2-.9 2-2V5c0-1.1-.9-2-2-2zM9 17H7v-7h2v7zm4 0h-2V7h2v10zm4 0h-2v-4h2v4z\"/>\n",
              "    </g>\n",
              "</svg>\n",
              "  </button>\n",
              "\n",
              "<style>\n",
              "  .colab-df-quickchart {\n",
              "      --bg-color: #E8F0FE;\n",
              "      --fill-color: #1967D2;\n",
              "      --hover-bg-color: #E2EBFA;\n",
              "      --hover-fill-color: #174EA6;\n",
              "      --disabled-fill-color: #AAA;\n",
              "      --disabled-bg-color: #DDD;\n",
              "  }\n",
              "\n",
              "  [theme=dark] .colab-df-quickchart {\n",
              "      --bg-color: #3B4455;\n",
              "      --fill-color: #D2E3FC;\n",
              "      --hover-bg-color: #434B5C;\n",
              "      --hover-fill-color: #FFFFFF;\n",
              "      --disabled-bg-color: #3B4455;\n",
              "      --disabled-fill-color: #666;\n",
              "  }\n",
              "\n",
              "  .colab-df-quickchart {\n",
              "    background-color: var(--bg-color);\n",
              "    border: none;\n",
              "    border-radius: 50%;\n",
              "    cursor: pointer;\n",
              "    display: none;\n",
              "    fill: var(--fill-color);\n",
              "    height: 32px;\n",
              "    padding: 0;\n",
              "    width: 32px;\n",
              "  }\n",
              "\n",
              "  .colab-df-quickchart:hover {\n",
              "    background-color: var(--hover-bg-color);\n",
              "    box-shadow: 0 1px 2px rgba(60, 64, 67, 0.3), 0 1px 3px 1px rgba(60, 64, 67, 0.15);\n",
              "    fill: var(--button-hover-fill-color);\n",
              "  }\n",
              "\n",
              "  .colab-df-quickchart-complete:disabled,\n",
              "  .colab-df-quickchart-complete:disabled:hover {\n",
              "    background-color: var(--disabled-bg-color);\n",
              "    fill: var(--disabled-fill-color);\n",
              "    box-shadow: none;\n",
              "  }\n",
              "\n",
              "  .colab-df-spinner {\n",
              "    border: 2px solid var(--fill-color);\n",
              "    border-color: transparent;\n",
              "    border-bottom-color: var(--fill-color);\n",
              "    animation:\n",
              "      spin 1s steps(1) infinite;\n",
              "  }\n",
              "\n",
              "  @keyframes spin {\n",
              "    0% {\n",
              "      border-color: transparent;\n",
              "      border-bottom-color: var(--fill-color);\n",
              "      border-left-color: var(--fill-color);\n",
              "    }\n",
              "    20% {\n",
              "      border-color: transparent;\n",
              "      border-left-color: var(--fill-color);\n",
              "      border-top-color: var(--fill-color);\n",
              "    }\n",
              "    30% {\n",
              "      border-color: transparent;\n",
              "      border-left-color: var(--fill-color);\n",
              "      border-top-color: var(--fill-color);\n",
              "      border-right-color: var(--fill-color);\n",
              "    }\n",
              "    40% {\n",
              "      border-color: transparent;\n",
              "      border-right-color: var(--fill-color);\n",
              "      border-top-color: var(--fill-color);\n",
              "    }\n",
              "    60% {\n",
              "      border-color: transparent;\n",
              "      border-right-color: var(--fill-color);\n",
              "    }\n",
              "    80% {\n",
              "      border-color: transparent;\n",
              "      border-right-color: var(--fill-color);\n",
              "      border-bottom-color: var(--fill-color);\n",
              "    }\n",
              "    90% {\n",
              "      border-color: transparent;\n",
              "      border-bottom-color: var(--fill-color);\n",
              "    }\n",
              "  }\n",
              "</style>\n",
              "\n",
              "  <script>\n",
              "    async function quickchart(key) {\n",
              "      const quickchartButtonEl =\n",
              "        document.querySelector('#' + key + ' button');\n",
              "      quickchartButtonEl.disabled = true;  // To prevent multiple clicks.\n",
              "      quickchartButtonEl.classList.add('colab-df-spinner');\n",
              "      try {\n",
              "        const charts = await google.colab.kernel.invokeFunction(\n",
              "            'suggestCharts', [key], {});\n",
              "      } catch (error) {\n",
              "        console.error('Error during call to suggestCharts:', error);\n",
              "      }\n",
              "      quickchartButtonEl.classList.remove('colab-df-spinner');\n",
              "      quickchartButtonEl.classList.add('colab-df-quickchart-complete');\n",
              "    }\n",
              "    (() => {\n",
              "      let quickchartButtonEl =\n",
              "        document.querySelector('#df-09c73896-1bec-4a9d-a0f6-f56a5b221075 button');\n",
              "      quickchartButtonEl.style.display =\n",
              "        google.colab.kernel.accessAllowed ? 'block' : 'none';\n",
              "    })();\n",
              "  </script>\n",
              "</div>\n",
              "\n",
              "    </div>\n",
              "  </div>\n"
            ],
            "application/vnd.google.colaboratory.intrinsic+json": {
              "type": "dataframe",
              "variable_name": "df"
            }
          },
          "metadata": {},
          "execution_count": 45
        }
      ]
    },
    {
      "cell_type": "code",
      "source": [
        "# Hacemos un recuento de la cantidad de valores nulos en el dataset\n",
        "df.isnull().sum()"
      ],
      "metadata": {
        "colab": {
          "base_uri": "https://localhost:8080/",
          "height": 774
        },
        "id": "P3-edmokUiFK",
        "outputId": "bc7e2132-2ad9-4b73-bc64-8d88ab52fcc4"
      },
      "id": "P3-edmokUiFK",
      "execution_count": null,
      "outputs": [
        {
          "output_type": "execute_result",
          "data": {
            "text/plain": [
              "A             0\n",
              "B             0\n",
              "C             0\n",
              "D             0\n",
              "E             0\n",
              "comentario    0\n",
              "label         0\n",
              "A_t           0\n",
              "B_t           0\n",
              "C_t           0\n",
              "D_t           0\n",
              "E_t           0\n",
              "Valor_1       0\n",
              "Valor_2       0\n",
              "Valor_3       0\n",
              "Valor_4       0\n",
              "Valor_5       0\n",
              "Valor_6       0\n",
              "Valor_7       0\n",
              "Valor_8       0\n",
              "Valor_9       0\n",
              "Valor_10      0\n",
              "dtype: int64"
            ],
            "text/html": [
              "<div>\n",
              "<style scoped>\n",
              "    .dataframe tbody tr th:only-of-type {\n",
              "        vertical-align: middle;\n",
              "    }\n",
              "\n",
              "    .dataframe tbody tr th {\n",
              "        vertical-align: top;\n",
              "    }\n",
              "\n",
              "    .dataframe thead th {\n",
              "        text-align: right;\n",
              "    }\n",
              "</style>\n",
              "<table border=\"1\" class=\"dataframe\">\n",
              "  <thead>\n",
              "    <tr style=\"text-align: right;\">\n",
              "      <th></th>\n",
              "      <th>0</th>\n",
              "    </tr>\n",
              "  </thead>\n",
              "  <tbody>\n",
              "    <tr>\n",
              "      <th>A</th>\n",
              "      <td>0</td>\n",
              "    </tr>\n",
              "    <tr>\n",
              "      <th>B</th>\n",
              "      <td>0</td>\n",
              "    </tr>\n",
              "    <tr>\n",
              "      <th>C</th>\n",
              "      <td>0</td>\n",
              "    </tr>\n",
              "    <tr>\n",
              "      <th>D</th>\n",
              "      <td>0</td>\n",
              "    </tr>\n",
              "    <tr>\n",
              "      <th>E</th>\n",
              "      <td>0</td>\n",
              "    </tr>\n",
              "    <tr>\n",
              "      <th>comentario</th>\n",
              "      <td>0</td>\n",
              "    </tr>\n",
              "    <tr>\n",
              "      <th>label</th>\n",
              "      <td>0</td>\n",
              "    </tr>\n",
              "    <tr>\n",
              "      <th>A_t</th>\n",
              "      <td>0</td>\n",
              "    </tr>\n",
              "    <tr>\n",
              "      <th>B_t</th>\n",
              "      <td>0</td>\n",
              "    </tr>\n",
              "    <tr>\n",
              "      <th>C_t</th>\n",
              "      <td>0</td>\n",
              "    </tr>\n",
              "    <tr>\n",
              "      <th>D_t</th>\n",
              "      <td>0</td>\n",
              "    </tr>\n",
              "    <tr>\n",
              "      <th>E_t</th>\n",
              "      <td>0</td>\n",
              "    </tr>\n",
              "    <tr>\n",
              "      <th>Valor_1</th>\n",
              "      <td>0</td>\n",
              "    </tr>\n",
              "    <tr>\n",
              "      <th>Valor_2</th>\n",
              "      <td>0</td>\n",
              "    </tr>\n",
              "    <tr>\n",
              "      <th>Valor_3</th>\n",
              "      <td>0</td>\n",
              "    </tr>\n",
              "    <tr>\n",
              "      <th>Valor_4</th>\n",
              "      <td>0</td>\n",
              "    </tr>\n",
              "    <tr>\n",
              "      <th>Valor_5</th>\n",
              "      <td>0</td>\n",
              "    </tr>\n",
              "    <tr>\n",
              "      <th>Valor_6</th>\n",
              "      <td>0</td>\n",
              "    </tr>\n",
              "    <tr>\n",
              "      <th>Valor_7</th>\n",
              "      <td>0</td>\n",
              "    </tr>\n",
              "    <tr>\n",
              "      <th>Valor_8</th>\n",
              "      <td>0</td>\n",
              "    </tr>\n",
              "    <tr>\n",
              "      <th>Valor_9</th>\n",
              "      <td>0</td>\n",
              "    </tr>\n",
              "    <tr>\n",
              "      <th>Valor_10</th>\n",
              "      <td>0</td>\n",
              "    </tr>\n",
              "  </tbody>\n",
              "</table>\n",
              "</div><br><label><b>dtype:</b> int64</label>"
            ]
          },
          "metadata": {},
          "execution_count": 44
        }
      ]
    },
    {
      "cell_type": "code",
      "execution_count": null,
      "id": "ZQDQKzWbMLAb",
      "metadata": {
        "colab": {
          "base_uri": "https://localhost:8080/"
        },
        "id": "ZQDQKzWbMLAb",
        "outputId": "122f55b5-89f4-48d4-da70-4f4aebd5bae4"
      },
      "outputs": [
        {
          "output_type": "stream",
          "name": "stdout",
          "text": [
            "Filas sin duplicados: 9461\n"
          ]
        }
      ],
      "source": [
        "# Eliminamos las filas duplicadas\n",
        "df = df.drop_duplicates(subset=['comentario'], keep='first')\n",
        "print(f\"Filas sin duplicados: {len(df)}\")"
      ]
    },
    {
      "cell_type": "code",
      "execution_count": null,
      "id": "6Ev7No9yTsiM",
      "metadata": {
        "colab": {
          "base_uri": "https://localhost:8080/",
          "height": 444
        },
        "id": "6Ev7No9yTsiM",
        "outputId": "b79c89cb-a0a8-4bf1-8fc8-2e3b81e82d3d"
      },
      "outputs": [
        {
          "output_type": "display_data",
          "data": {
            "text/plain": [
              "<Figure size 500x500 with 1 Axes>"
            ],
            "image/png": "[encoded data removed]"
          },
          "metadata": {}
        }
      ],
      "source": [
        "# Hacemos un recuento de las instancias de cada clase\n",
        "df['label'].value_counts().plot(kind='pie', title=\"Etiquetas de odio\", autopct='%1.2f%%', figsize=(5,5))\n",
        "plt.show()"
      ]
    },
    {
      "cell_type": "markdown",
      "source": [
        "**BALANCEO Y LIMPIEZA DEL DATASET**\n",
        "\n",
        "Como vemos en la tabla superior no existen valores nulos en el dataset en ninguna de las columnas. Pero sí que hemos encontrado que hay instancias duplicadas así que realizamos una limpieza de estos valores. También podemos observar en el gráfico anterior que tenemos un dataset bastante balanceado, por lo que no será necesario ningún tipo de intervención adicional."
      ],
      "metadata": {
        "id": "LTbXLCTfUY1b"
      },
      "id": "LTbXLCTfUY1b"
    },
    {
      "cell_type": "markdown",
      "source": [
        "**VALORES ATÍPICOS**"
      ],
      "metadata": {
        "id": "RURUixqHV1Zx"
      },
      "id": "RURUixqHV1Zx"
    },
    {
      "cell_type": "code",
      "source": [
        "import seaborn as sns\n",
        "\n",
        "\"Realizaremos la representación del diagrama de cajas para obtener aquellos valores anómalos (outliers)\"\n",
        "\n",
        "lista = ['A', 'B', 'C', 'D', 'E']\n",
        "colores = ['red', 'blue', 'green', 'orange', 'purple']\n",
        "\n",
        "for i,c in zip(lista,colores):\n",
        "    plt.figure()\n",
        "    ay= sns.boxplot(data=df, x=i,color=c)\n",
        "    plt.show()\n",
        "\n",
        "    #Calculamos los cuartiles Q1 y Q3\n",
        "    Q1 = df[i].quantile(0.25)\n",
        "    Q3 = df[i].quantile(0.75)\n",
        "    IQR = Q3 - Q1\n",
        "    limite_inferior = Q1 - 1.5 * IQR\n",
        "    limite_superior = Q3 + 1.5 * IQR\n",
        "\n",
        "    #Realizamos un filtrado, donde los valores que superen los límites serán considerados atípicos\n",
        "    valores_atipicos = df[(df[i] < limite_inferior) | (df[i] > limite_superior)]\n",
        "\n",
        "    # Obtener el número de valores atípicos\n",
        "    numero_valores_atipicos = len(valores_atipicos)\n",
        "\n",
        "\n",
        "    print(\"Número de valores atípicos:\", numero_valores_atipicos)\n",
        "\n"
      ],
      "metadata": {
        "colab": {
          "base_uri": "https://localhost:8080/",
          "height": 1000
        },
        "id": "1bCO_T_XOAEr",
        "outputId": "b1252120-7eca-45a9-d5db-2e2bbc39878a"
      },
      "id": "1bCO_T_XOAEr",
      "execution_count": null,
      "outputs": [
        {
          "output_type": "display_data",
          "data": {
            "text/plain": [
              "<Figure size 640x480 with 1 Axes>"
            ],
            "image/png": "[encoded data removed]"
          },
          "metadata": {}
        },
        {
          "output_type": "stream",
          "name": "stdout",
          "text": [
            "Número de valores atípicos: 1220\n"
          ]
        },
        {
          "output_type": "display_data",
          "data": {
            "text/plain": [
              "<Figure size 640x480 with 1 Axes>"
            ],
            "image/png": "[encoded data removed]"
          },
          "metadata": {}
        },
        {
          "output_type": "stream",
          "name": "stdout",
          "text": [
            "Número de valores atípicos: 163\n"
          ]
        },
        {
          "output_type": "display_data",
          "data": {
            "text/plain": [
              "<Figure size 640x480 with 1 Axes>"
            ],
            "image/png": "[encoded data removed]"
          },
          "metadata": {}
        },
        {
          "output_type": "stream",
          "name": "stdout",
          "text": [
            "Número de valores atípicos: 597\n"
          ]
        },
        {
          "output_type": "display_data",
          "data": {
            "text/plain": [
              "<Figure size 640x480 with 1 Axes>"
            ],
            "image/png": "[encoded data removed]"
          },
          "metadata": {}
        },
        {
          "output_type": "stream",
          "name": "stdout",
          "text": [
            "Número de valores atípicos: 753\n"
          ]
        },
        {
          "output_type": "display_data",
          "data": {
            "text/plain": [
              "<Figure size 640x480 with 1 Axes>"
            ],
            "image/png": "[encoded data removed]"
          },
          "metadata": {}
        },
        {
          "output_type": "stream",
          "name": "stdout",
          "text": [
            "Número de valores atípicos: 0\n"
          ]
        }
      ]
    },
    {
      "cell_type": "markdown",
      "source": [
        "Para calcular el número de valores atípicos nos hemos basado en el uso de diagramas de cajas, donde los valores atípicos son representados como circulos que superan los bigotes tanto superiores y inferiores del diagrama. En este caso no podemos afirmar que estos valores sean debidos a errores de medición, ya que muchos de ellos pueden representar frases más largas que la media, sino a que se trata de una distribución de cola larga."
      ],
      "metadata": {
        "id": "lT_dYAy2V6OZ"
      },
      "id": "lT_dYAy2V6OZ"
    },
    {
      "cell_type": "markdown",
      "source": [
        "**ESTUDIO DE LA RELACIÓN ENTRE VARIABLES**"
      ],
      "metadata": {
        "id": "GlrwctesWzeS"
      },
      "id": "GlrwctesWzeS"
    },
    {
      "cell_type": "code",
      "execution_count": null,
      "id": "0A2W8SGMQXwF",
      "metadata": {
        "colab": {
          "base_uri": "https://localhost:8080/"
        },
        "id": "0A2W8SGMQXwF",
        "outputId": "8898d3f2-b3b3-4f10-9280-93febdceae07"
      },
      "outputs": [
        {
          "output_type": "stream",
          "name": "stdout",
          "text": [
            "A_t: Chi²= 426.460\n",
            "B_t: Chi²= 1478.348\n",
            "C_t: Chi²= 645.906\n",
            "D_t: Chi²= 60.830\n",
            "E_t: Chi²= 5309.415\n"
          ]
        }
      ],
      "source": [
        "from scipy.stats import chi2_contingency\n",
        "\n",
        "# Seleccionamos las variabels independientes\n",
        "\n",
        "variables_independientes = ['A_t', 'B_t', 'C_t', 'D_t', 'E_t']\n",
        "\n",
        "for variable in variables_independientes:\n",
        "    # Las variables deben ser convertidas a categoricas discreta para el conteo de la frecuencia, elemento fundamental en el test chi2\n",
        "    df[f\"{variable}_binned\"] = pd.cut(df[variable], bins=5, labels=False)\n",
        "\n",
        "    # Creacion de tabla de contingencia, esta tabla muestra la frecuencia con la que ocurren las combinaciones de categorías entre ambas variables\n",
        "    contingency_table = pd.crosstab(df[f\"{variable}_binned\"], df['label'])\n",
        "\n",
        "    # Prueba de Chi2\n",
        "    chi2, p_value, dof, expected = chi2_contingency(contingency_table)\n",
        "    print(f\"{variable}: Chi²= {chi2:.3f}\")"
      ]
    },
    {
      "cell_type": "code",
      "execution_count": null,
      "id": "1026a6f9-b6c3-4184-87e0-6135413d4371",
      "metadata": {
        "colab": {
          "base_uri": "https://localhost:8080/"
        },
        "id": "1026a6f9-b6c3-4184-87e0-6135413d4371",
        "outputId": "d8bc4bf5-9326-4fca-8b65-78dd35fa34f2"
      },
      "outputs": [
        {
          "output_type": "stream",
          "name": "stdout",
          "text": [
            "Valor_1: Chi²= 29.014\n",
            "Valor_2: Chi²= 89.482\n",
            "Valor_3: Chi²= 82.886\n",
            "Valor_4: Chi²= 172.826\n",
            "Valor_5: Chi²= 38.121\n",
            "Valor_6: Chi²= 1217.510\n",
            "Valor_7: Chi²= 191.218\n",
            "Valor_8: Chi²= 652.687\n",
            "Valor_9: Chi²= 106.413\n",
            "Valor_10: Chi²= 397.764\n"
          ]
        }
      ],
      "source": [
        "from scipy.stats import chi2_contingency\n",
        "\n",
        "# Seleccionamos las variabels independientes\n",
        "\n",
        "variables_independientes = ['Valor_1',\t'Valor_2', 'Valor_3', 'Valor_4', 'Valor_5',\t'Valor_6', 'Valor_7', 'Valor_8', 'Valor_9', 'Valor_10']\n",
        "\n",
        "for variable in variables_independientes:\n",
        "    # Las variables deben ser convertidas a categoricas discreta para el conteo de la frecuencia, elemento fundamental en el test chi2\n",
        "    df[f\"{variable}_binned\"] = pd.cut(df[variable], bins=5, labels=False)\n",
        "\n",
        "    # Creacion de tabla de contingencia, esta tabla muestra la frecuencia con la que ocurren las combinaciones de categorías entre ambas variables\n",
        "    contingency_table = pd.crosstab(df[f\"{variable}_binned\"], df['label'])\n",
        "\n",
        "    # Prueba de Chi2\n",
        "    chi2, p_value, dof, expected = chi2_contingency(contingency_table)\n",
        "    print(f\"{variable}: Chi²= {chi2:.3f}\")"
      ]
    },
    {
      "cell_type": "markdown",
      "source": [
        "Se ha reliazado una prueba de chi2, esta prueba nos indicará la relación que tienen nuestras variables independientes con la variable objetivo. Las variables con valores más grandes representarán las que tienen una relación más fuerte. Se han raelizado dos estudios:\n",
        "\n",
        "El primero comprueba la relación que tienen nuestras variables independientes cuando se ha estandarizado sus valores, estas variables son A_t, B_t, C_t, D_t y E_t. Las variables que mayor relación tienen son: B_t y E_t.\n",
        "\n",
        "El segundo estudio se ha realizazado con las variables independientes cuando se ha multiplicado el valor estandarizado por parejas de dos respectivamente. En este caso las variables con mayor importancia son: Valor_6 y Valor_8."
      ],
      "metadata": {
        "id": "5oJVg5dbXk9q"
      },
      "id": "5oJVg5dbXk9q"
    },
    {
      "cell_type": "markdown",
      "id": "105e97be-3cca-4981-ab87-e953254433c7",
      "metadata": {
        "id": "105e97be-3cca-4981-ab87-e953254433c7"
      },
      "source": [
        "## SELECCIÓN Y ENTRENAMIENTO DE LOS MODELOS"
      ]
    },
    {
      "cell_type": "markdown",
      "source": [
        "**DISTRIBUCIÓN DATOS**"
      ],
      "metadata": {
        "id": "yKCqIE71Xgf5"
      },
      "id": "yKCqIE71Xgf5"
    },
    {
      "cell_type": "code",
      "source": [
        "from sklearn.model_selection import train_test_split\n",
        "\n",
        "# Quitamos las filas que no usaremos para el entrenamiento\n",
        "df_entrenamiento = df.drop(columns=['A', 'B', 'C', 'D', 'E', 'comentario'])\n",
        "\n",
        "# Guardamos el csv de nuestro dataset de entrenamiento\n",
        "df_entrenamiento.to_csv(\"out2.csv\", index=False)\n",
        "\n",
        "# Separamos las variables en features y variable objetivo\n",
        "X = df_entrenamiento.drop(['label'],axis=1)\n",
        "Y = df_entrenamiento['label']\n",
        "X_train,X_test,y_train,y_test = train_test_split(X, Y, test_size=0.2, random_state=1)"
      ],
      "metadata": {
        "id": "_95l91NvXfwR"
      },
      "id": "_95l91NvXfwR",
      "execution_count": null,
      "outputs": []
    },
    {
      "cell_type": "markdown",
      "source": [
        "### Bayes"
      ],
      "metadata": {
        "id": "J72ffqvkISQ6"
      },
      "id": "J72ffqvkISQ6"
    },
    {
      "cell_type": "code",
      "source": [
        "from sklearn.model_selection import train_test_split\n",
        "from sklearn.naive_bayes import GaussianNB\n",
        "from sklearn.metrics import accuracy_score\n",
        "\n",
        "# Creamos el clasificador Naïve Bayes\n",
        "nb_classifier = GaussianNB()\n",
        "\n",
        "# Entrenamos el modelo\n",
        "nb_classifier.fit(X_train, y_train)"
      ],
      "metadata": {
        "colab": {
          "base_uri": "https://localhost:8080/",
          "height": 80
        },
        "id": "JkYnC0C9IUhS",
        "outputId": "667f6da8-3578-4b05-e15a-07fdcfc13394"
      },
      "id": "JkYnC0C9IUhS",
      "execution_count": null,
      "outputs": [
        {
          "output_type": "execute_result",
          "data": {
            "text/plain": [
              "GaussianNB()"
            ],
            "text/html": [
              "<style>#sk-container-id-2 {\n",
              "  /* Definition of color scheme common for light and dark mode */\n",
              "  --sklearn-color-text: #000;\n",
              "  --sklearn-color-text-muted: #666;\n",
              "  --sklearn-color-line: gray;\n",
              "  /* Definition of color scheme for unfitted estimators */\n",
              "  --sklearn-color-unfitted-level-0: #fff5e6;\n",
              "  --sklearn-color-unfitted-level-1: #f6e4d2;\n",
              "  --sklearn-color-unfitted-level-2: #ffe0b3;\n",
              "  --sklearn-color-unfitted-level-3: chocolate;\n",
              "  /* Definition of color scheme for fitted estimators */\n",
              "  --sklearn-color-fitted-level-0: #f0f8ff;\n",
              "  --sklearn-color-fitted-level-1: #d4ebff;\n",
              "  --sklearn-color-fitted-level-2: #b3dbfd;\n",
              "  --sklearn-color-fitted-level-3: cornflowerblue;\n",
              "\n",
              "  /* Specific color for light theme */\n",
              "  --sklearn-color-text-on-default-background: var(--sg-text-color, var(--theme-code-foreground, var(--jp-content-font-color1, black)));\n",
              "  --sklearn-color-background: var(--sg-background-color, var(--theme-background, var(--jp-layout-color0, white)));\n",
              "  --sklearn-color-border-box: var(--sg-text-color, var(--theme-code-foreground, var(--jp-content-font-color1, black)));\n",
              "  --sklearn-color-icon: #696969;\n",
              "\n",
              "  @media (prefers-color-scheme: dark) {\n",
              "    /* Redefinition of color scheme for dark theme */\n",
              "    --sklearn-color-text-on-default-background: var(--sg-text-color, var(--theme-code-foreground, var(--jp-content-font-color1, white)));\n",
              "    --sklearn-color-background: var(--sg-background-color, var(--theme-background, var(--jp-layout-color0, #111)));\n",
              "    --sklearn-color-border-box: var(--sg-text-color, var(--theme-code-foreground, var(--jp-content-font-color1, white)));\n",
              "    --sklearn-color-icon: #878787;\n",
              "  }\n",
              "}\n",
              "\n",
              "#sk-container-id-2 {\n",
              "  color: var(--sklearn-color-text);\n",
              "}\n",
              "\n",
              "#sk-container-id-2 pre {\n",
              "  padding: 0;\n",
              "}\n",
              "\n",
              "#sk-container-id-2 input.sk-hidden--visually {\n",
              "  border: 0;\n",
              "  clip: rect(1px 1px 1px 1px);\n",
              "  clip: rect(1px, 1px, 1px, 1px);\n",
              "  height: 1px;\n",
              "  margin: -1px;\n",
              "  overflow: hidden;\n",
              "  padding: 0;\n",
              "  position: absolute;\n",
              "  width: 1px;\n",
              "}\n",
              "\n",
              "#sk-container-id-2 div.sk-dashed-wrapped {\n",
              "  border: 1px dashed var(--sklearn-color-line);\n",
              "  margin: 0 0.4em 0.5em 0.4em;\n",
              "  box-sizing: border-box;\n",
              "  padding-bottom: 0.4em;\n",
              "  background-color: var(--sklearn-color-background);\n",
              "}\n",
              "\n",
              "#sk-container-id-2 div.sk-container {\n",
              "  /* jupyter's `normalize.less` sets `[hidden] { display: none; }`\n",
              "     but bootstrap.min.css set `[hidden] { display: none !important; }`\n",
              "     so we also need the `!important` here to be able to override the\n",
              "     default hidden behavior on the sphinx rendered scikit-learn.org.\n",
              "     See: https://github.com/scikit-learn/scikit-learn/issues/21755 */\n",
              "  display: inline-block !important;\n",
              "  position: relative;\n",
              "}\n",
              "\n",
              "#sk-container-id-2 div.sk-text-repr-fallback {\n",
              "  display: none;\n",
              "}\n",
              "\n",
              "div.sk-parallel-item,\n",
              "div.sk-serial,\n",
              "div.sk-item {\n",
              "  /* draw centered vertical line to link estimators */\n",
              "  background-image: linear-gradient(var(--sklearn-color-text-on-default-background), var(--sklearn-color-text-on-default-background));\n",
              "  background-size: 2px 100%;\n",
              "  background-repeat: no-repeat;\n",
              "  background-position: center center;\n",
              "}\n",
              "\n",
              "/* Parallel-specific style estimator block */\n",
              "\n",
              "#sk-container-id-2 div.sk-parallel-item::after {\n",
              "  content: \"\";\n",
              "  width: 100%;\n",
              "  border-bottom: 2px solid var(--sklearn-color-text-on-default-background);\n",
              "  flex-grow: 1;\n",
              "}\n",
              "\n",
              "#sk-container-id-2 div.sk-parallel {\n",
              "  display: flex;\n",
              "  align-items: stretch;\n",
              "  justify-content: center;\n",
              "  background-color: var(--sklearn-color-background);\n",
              "  position: relative;\n",
              "}\n",
              "\n",
              "#sk-container-id-2 div.sk-parallel-item {\n",
              "  display: flex;\n",
              "  flex-direction: column;\n",
              "}\n",
              "\n",
              "#sk-container-id-2 div.sk-parallel-item:first-child::after {\n",
              "  align-self: flex-end;\n",
              "  width: 50%;\n",
              "}\n",
              "\n",
              "#sk-container-id-2 div.sk-parallel-item:last-child::after {\n",
              "  align-self: flex-start;\n",
              "  width: 50%;\n",
              "}\n",
              "\n",
              "#sk-container-id-2 div.sk-parallel-item:only-child::after {\n",
              "  width: 0;\n",
              "}\n",
              "\n",
              "/* Serial-specific style estimator block */\n",
              "\n",
              "#sk-container-id-2 div.sk-serial {\n",
              "  display: flex;\n",
              "  flex-direction: column;\n",
              "  align-items: center;\n",
              "  background-color: var(--sklearn-color-background);\n",
              "  padding-right: 1em;\n",
              "  padding-left: 1em;\n",
              "}\n",
              "\n",
              "\n",
              "/* Toggleable style: style used for estimator/Pipeline/ColumnTransformer box that is\n",
              "clickable and can be expanded/collapsed.\n",
              "- Pipeline and ColumnTransformer use this feature and define the default style\n",
              "- Estimators will overwrite some part of the style using the `sk-estimator` class\n",
              "*/\n",
              "\n",
              "/* Pipeline and ColumnTransformer style (default) */\n",
              "\n",
              "#sk-container-id-2 div.sk-toggleable {\n",
              "  /* Default theme specific background. It is overwritten whether we have a\n",
              "  specific estimator or a Pipeline/ColumnTransformer */\n",
              "  background-color: var(--sklearn-color-background);\n",
              "}\n",
              "\n",
              "/* Toggleable label */\n",
              "#sk-container-id-2 label.sk-toggleable__label {\n",
              "  cursor: pointer;\n",
              "  display: flex;\n",
              "  width: 100%;\n",
              "  margin-bottom: 0;\n",
              "  padding: 0.5em;\n",
              "  box-sizing: border-box;\n",
              "  text-align: center;\n",
              "  align-items: start;\n",
              "  justify-content: space-between;\n",
              "  gap: 0.5em;\n",
              "}\n",
              "\n",
              "#sk-container-id-2 label.sk-toggleable__label .caption {\n",
              "  font-size: 0.6rem;\n",
              "  font-weight: lighter;\n",
              "  color: var(--sklearn-color-text-muted);\n",
              "}\n",
              "\n",
              "#sk-container-id-2 label.sk-toggleable__label-arrow:before {\n",
              "  /* Arrow on the left of the label */\n",
              "  content: \"▸\";\n",
              "  float: left;\n",
              "  margin-right: 0.25em;\n",
              "  color: var(--sklearn-color-icon);\n",
              "}\n",
              "\n",
              "#sk-container-id-2 label.sk-toggleable__label-arrow:hover:before {\n",
              "  color: var(--sklearn-color-text);\n",
              "}\n",
              "\n",
              "/* Toggleable content - dropdown */\n",
              "\n",
              "#sk-container-id-2 div.sk-toggleable__content {\n",
              "  max-height: 0;\n",
              "  max-width: 0;\n",
              "  overflow: hidden;\n",
              "  text-align: left;\n",
              "  /* unfitted */\n",
              "  background-color: var(--sklearn-color-unfitted-level-0);\n",
              "}\n",
              "\n",
              "#sk-container-id-2 div.sk-toggleable__content.fitted {\n",
              "  /* fitted */\n",
              "  background-color: var(--sklearn-color-fitted-level-0);\n",
              "}\n",
              "\n",
              "#sk-container-id-2 div.sk-toggleable__content pre {\n",
              "  margin: 0.2em;\n",
              "  border-radius: 0.25em;\n",
              "  color: var(--sklearn-color-text);\n",
              "  /* unfitted */\n",
              "  background-color: var(--sklearn-color-unfitted-level-0);\n",
              "}\n",
              "\n",
              "#sk-container-id-2 div.sk-toggleable__content.fitted pre {\n",
              "  /* unfitted */\n",
              "  background-color: var(--sklearn-color-fitted-level-0);\n",
              "}\n",
              "\n",
              "#sk-container-id-2 input.sk-toggleable__control:checked~div.sk-toggleable__content {\n",
              "  /* Expand drop-down */\n",
              "  max-height: 200px;\n",
              "  max-width: 100%;\n",
              "  overflow: auto;\n",
              "}\n",
              "\n",
              "#sk-container-id-2 input.sk-toggleable__control:checked~label.sk-toggleable__label-arrow:before {\n",
              "  content: \"▾\";\n",
              "}\n",
              "\n",
              "/* Pipeline/ColumnTransformer-specific style */\n",
              "\n",
              "#sk-container-id-2 div.sk-label input.sk-toggleable__control:checked~label.sk-toggleable__label {\n",
              "  color: var(--sklearn-color-text);\n",
              "  background-color: var(--sklearn-color-unfitted-level-2);\n",
              "}\n",
              "\n",
              "#sk-container-id-2 div.sk-label.fitted input.sk-toggleable__control:checked~label.sk-toggleable__label {\n",
              "  background-color: var(--sklearn-color-fitted-level-2);\n",
              "}\n",
              "\n",
              "/* Estimator-specific style */\n",
              "\n",
              "/* Colorize estimator box */\n",
              "#sk-container-id-2 div.sk-estimator input.sk-toggleable__control:checked~label.sk-toggleable__label {\n",
              "  /* unfitted */\n",
              "  background-color: var(--sklearn-color-unfitted-level-2);\n",
              "}\n",
              "\n",
              "#sk-container-id-2 div.sk-estimator.fitted input.sk-toggleable__control:checked~label.sk-toggleable__label {\n",
              "  /* fitted */\n",
              "  background-color: var(--sklearn-color-fitted-level-2);\n",
              "}\n",
              "\n",
              "#sk-container-id-2 div.sk-label label.sk-toggleable__label,\n",
              "#sk-container-id-2 div.sk-label label {\n",
              "  /* The background is the default theme color */\n",
              "  color: var(--sklearn-color-text-on-default-background);\n",
              "}\n",
              "\n",
              "/* On hover, darken the color of the background */\n",
              "#sk-container-id-2 div.sk-label:hover label.sk-toggleable__label {\n",
              "  color: var(--sklearn-color-text);\n",
              "  background-color: var(--sklearn-color-unfitted-level-2);\n",
              "}\n",
              "\n",
              "/* Label box, darken color on hover, fitted */\n",
              "#sk-container-id-2 div.sk-label.fitted:hover label.sk-toggleable__label.fitted {\n",
              "  color: var(--sklearn-color-text);\n",
              "  background-color: var(--sklearn-color-fitted-level-2);\n",
              "}\n",
              "\n",
              "/* Estimator label */\n",
              "\n",
              "#sk-container-id-2 div.sk-label label {\n",
              "  font-family: monospace;\n",
              "  font-weight: bold;\n",
              "  display: inline-block;\n",
              "  line-height: 1.2em;\n",
              "}\n",
              "\n",
              "#sk-container-id-2 div.sk-label-container {\n",
              "  text-align: center;\n",
              "}\n",
              "\n",
              "/* Estimator-specific */\n",
              "#sk-container-id-2 div.sk-estimator {\n",
              "  font-family: monospace;\n",
              "  border: 1px dotted var(--sklearn-color-border-box);\n",
              "  border-radius: 0.25em;\n",
              "  box-sizing: border-box;\n",
              "  margin-bottom: 0.5em;\n",
              "  /* unfitted */\n",
              "  background-color: var(--sklearn-color-unfitted-level-0);\n",
              "}\n",
              "\n",
              "#sk-container-id-2 div.sk-estimator.fitted {\n",
              "  /* fitted */\n",
              "  background-color: var(--sklearn-color-fitted-level-0);\n",
              "}\n",
              "\n",
              "/* on hover */\n",
              "#sk-container-id-2 div.sk-estimator:hover {\n",
              "  /* unfitted */\n",
              "  background-color: var(--sklearn-color-unfitted-level-2);\n",
              "}\n",
              "\n",
              "#sk-container-id-2 div.sk-estimator.fitted:hover {\n",
              "  /* fitted */\n",
              "  background-color: var(--sklearn-color-fitted-level-2);\n",
              "}\n",
              "\n",
              "/* Specification for estimator info (e.g. \"i\" and \"?\") */\n",
              "\n",
              "/* Common style for \"i\" and \"?\" */\n",
              "\n",
              ".sk-estimator-doc-link,\n",
              "a:link.sk-estimator-doc-link,\n",
              "a:visited.sk-estimator-doc-link {\n",
              "  float: right;\n",
              "  font-size: smaller;\n",
              "  line-height: 1em;\n",
              "  font-family: monospace;\n",
              "  background-color: var(--sklearn-color-background);\n",
              "  border-radius: 1em;\n",
              "  height: 1em;\n",
              "  width: 1em;\n",
              "  text-decoration: none !important;\n",
              "  margin-left: 0.5em;\n",
              "  text-align: center;\n",
              "  /* unfitted */\n",
              "  border: var(--sklearn-color-unfitted-level-1) 1pt solid;\n",
              "  color: var(--sklearn-color-unfitted-level-1);\n",
              "}\n",
              "\n",
              ".sk-estimator-doc-link.fitted,\n",
              "a:link.sk-estimator-doc-link.fitted,\n",
              "a:visited.sk-estimator-doc-link.fitted {\n",
              "  /* fitted */\n",
              "  border: var(--sklearn-color-fitted-level-1) 1pt solid;\n",
              "  color: var(--sklearn-color-fitted-level-1);\n",
              "}\n",
              "\n",
              "/* On hover */\n",
              "div.sk-estimator:hover .sk-estimator-doc-link:hover,\n",
              ".sk-estimator-doc-link:hover,\n",
              "div.sk-label-container:hover .sk-estimator-doc-link:hover,\n",
              ".sk-estimator-doc-link:hover {\n",
              "  /* unfitted */\n",
              "  background-color: var(--sklearn-color-unfitted-level-3);\n",
              "  color: var(--sklearn-color-background);\n",
              "  text-decoration: none;\n",
              "}\n",
              "\n",
              "div.sk-estimator.fitted:hover .sk-estimator-doc-link.fitted:hover,\n",
              ".sk-estimator-doc-link.fitted:hover,\n",
              "div.sk-label-container:hover .sk-estimator-doc-link.fitted:hover,\n",
              ".sk-estimator-doc-link.fitted:hover {\n",
              "  /* fitted */\n",
              "  background-color: var(--sklearn-color-fitted-level-3);\n",
              "  color: var(--sklearn-color-background);\n",
              "  text-decoration: none;\n",
              "}\n",
              "\n",
              "/* Span, style for the box shown on hovering the info icon */\n",
              ".sk-estimator-doc-link span {\n",
              "  display: none;\n",
              "  z-index: 9999;\n",
              "  position: relative;\n",
              "  font-weight: normal;\n",
              "  right: .2ex;\n",
              "  padding: .5ex;\n",
              "  margin: .5ex;\n",
              "  width: min-content;\n",
              "  min-width: 20ex;\n",
              "  max-width: 50ex;\n",
              "  color: var(--sklearn-color-text);\n",
              "  box-shadow: 2pt 2pt 4pt #999;\n",
              "  /* unfitted */\n",
              "  background: var(--sklearn-color-unfitted-level-0);\n",
              "  border: .5pt solid var(--sklearn-color-unfitted-level-3);\n",
              "}\n",
              "\n",
              ".sk-estimator-doc-link.fitted span {\n",
              "  /* fitted */\n",
              "  background: var(--sklearn-color-fitted-level-0);\n",
              "  border: var(--sklearn-color-fitted-level-3);\n",
              "}\n",
              "\n",
              ".sk-estimator-doc-link:hover span {\n",
              "  display: block;\n",
              "}\n",
              "\n",
              "/* \"?\"-specific style due to the `<a>` HTML tag */\n",
              "\n",
              "#sk-container-id-2 a.estimator_doc_link {\n",
              "  float: right;\n",
              "  font-size: 1rem;\n",
              "  line-height: 1em;\n",
              "  font-family: monospace;\n",
              "  background-color: var(--sklearn-color-background);\n",
              "  border-radius: 1rem;\n",
              "  height: 1rem;\n",
              "  width: 1rem;\n",
              "  text-decoration: none;\n",
              "  /* unfitted */\n",
              "  color: var(--sklearn-color-unfitted-level-1);\n",
              "  border: var(--sklearn-color-unfitted-level-1) 1pt solid;\n",
              "}\n",
              "\n",
              "#sk-container-id-2 a.estimator_doc_link.fitted {\n",
              "  /* fitted */\n",
              "  border: var(--sklearn-color-fitted-level-1) 1pt solid;\n",
              "  color: var(--sklearn-color-fitted-level-1);\n",
              "}\n",
              "\n",
              "/* On hover */\n",
              "#sk-container-id-2 a.estimator_doc_link:hover {\n",
              "  /* unfitted */\n",
              "  background-color: var(--sklearn-color-unfitted-level-3);\n",
              "  color: var(--sklearn-color-background);\n",
              "  text-decoration: none;\n",
              "}\n",
              "\n",
              "#sk-container-id-2 a.estimator_doc_link.fitted:hover {\n",
              "  /* fitted */\n",
              "  background-color: var(--sklearn-color-fitted-level-3);\n",
              "}\n",
              "</style><div id=\"sk-container-id-2\" class=\"sk-top-container\"><div class=\"sk-text-repr-fallback\"><pre>GaussianNB()</pre><b>In a Jupyter environment, please rerun this cell to show the HTML representation or trust the notebook. <br />On GitHub, the HTML representation is unable to render, please try loading this page with nbviewer.org.</b></div><div class=\"sk-container\" hidden><div class=\"sk-item\"><div class=\"sk-estimator fitted sk-toggleable\"><input class=\"sk-toggleable__control sk-hidden--visually\" id=\"sk-estimator-id-2\" type=\"checkbox\" checked><label for=\"sk-estimator-id-2\" class=\"sk-toggleable__label fitted sk-toggleable__label-arrow\"><div><div>GaussianNB</div></div><div><a class=\"sk-estimator-doc-link fitted\" rel=\"noreferrer\" target=\"_blank\" href=\"https://scikit-learn.org/1.6/modules/generated/sklearn.naive_bayes.GaussianNB.html\">?<span>Documentation for GaussianNB</span></a><span class=\"sk-estimator-doc-link fitted\">i<span>Fitted</span></span></div></label><div class=\"sk-toggleable__content fitted\"><pre>GaussianNB()</pre></div> </div></div></div></div>"
            ]
          },
          "metadata": {},
          "execution_count": 38
        }
      ]
    },
    {
      "cell_type": "markdown",
      "source": [
        "**UTILIDAD DEL MODELO**\n",
        "\n",
        "Naïve Bayes es un algoritmo que es utilizado normalmente para la clasificación de textos. Por ejemplo es utilizado para el filtrado de spam, análisis de sentimientos y la clasificación de noticias.\n",
        "\n",
        "La razón principal por la que funciona bien en estos casos es que los textos tienen múltiples características (palabras), y aunque la suposición de independencia entre ellas no sea del todo cierta, sigue dando buenos resultados en la práctica.\n",
        "\n",
        "Además contiene ventajas como que es muy rápido y eficiente, funciona bien con pocas muestras y maneja bien las palabras irrelevantes gracias a la probabilidad condicional."
      ],
      "metadata": {
        "id": "KeeZ4BtIkaNc"
      },
      "id": "KeeZ4BtIkaNc"
    },
    {
      "cell_type": "markdown",
      "source": [
        "### Random Forest"
      ],
      "metadata": {
        "id": "WPlu1OhRjUez"
      },
      "id": "WPlu1OhRjUez"
    },
    {
      "cell_type": "code",
      "execution_count": null,
      "id": "277d1df6-2bad-4398-aa05-be298766989c",
      "metadata": {
        "id": "277d1df6-2bad-4398-aa05-be298766989c"
      },
      "outputs": [],
      "source": [
        "from sklearn.ensemble import RandomForestClassifier\n",
        "\n",
        "# Parámetros con los que probaremos el modelo Random Forest\n",
        "n_arboles = [5, 10, 20, 50, 100]\n",
        "particion = \"gini\"\n",
        "max_depth = 10\n",
        "min_samples_split = 10\n",
        "min_samples_leaf = 2\n",
        "max_feature = None\n",
        "\n",
        "# Creamos los diferentes modelos de Random Forest\n",
        "randomForest = [RandomForestClassifier(n_estimators = i, criterion = particion,\n",
        "                                       max_depth = max_depth, min_samples_split = min_samples_split,\n",
        "                                      min_samples_leaf = min_samples_leaf, max_features = None) for i in n_arboles]\n",
        "\n",
        "print(randomForest)\n"
      ]
    },
    {
      "cell_type": "code",
      "execution_count": null,
      "id": "630149b4-4898-4727-9caa-d2d850777941",
      "metadata": {
        "id": "630149b4-4898-4727-9caa-d2d850777941"
      },
      "outputs": [],
      "source": [
        "# Entrenamos los modelos\n",
        "rf_fit = [modelo_rf.fit(X_train,y_train) for modelo_rf in randomForest]"
      ]
    },
    {
      "cell_type": "markdown",
      "source": [
        "**UTILIDAD DEL MODELO**"
      ],
      "metadata": {
        "id": "a9BqtAS0Zi0B"
      },
      "id": "a9BqtAS0Zi0B"
    },
    {
      "cell_type": "markdown",
      "source": [
        "Randon forest es un modelo de aprendizaje automático combina la simplicidad de los árboles de decisión y la robustez de combinar múltiples árboles con el método Baggibg. Este nos será útil para la tarea de clasificación de mensajes de odio que nos requiere este problema. Gracias al uso de arboles de decisión este modelo es capaz de modelar ralaciones no lineales entre nuestros datos. Otra gran ventaja de este modelo es que puede tratar datasets desbalanceados o con ruido de manera bastante eficiente, en nuestro caso tenemos un dataset limpio, con apenas ruido y bien balanceado, sin embargo, para usos futuros donde querramos trabajar con diferentes datasets es una opción bastante acertada. Debido a su capacidad de aleatorización en la creación de árboles, hace que nuestro modelo tenga una gran capacidad de generalización consiguiendo así que no ocurra overfitting."
      ],
      "metadata": {
        "id": "mYNeT63uaqvR"
      },
      "id": "mYNeT63uaqvR"
    },
    {
      "cell_type": "markdown",
      "source": [
        "### SVM"
      ],
      "metadata": {
        "id": "KRbjcMu5jz-Q"
      },
      "id": "KRbjcMu5jz-Q"
    },
    {
      "cell_type": "code",
      "source": [
        "from sklearn.svm import SVC\n",
        "\n",
        "# Parámetros con los que probamos el modelo SVC\n",
        "C = [0.1, 1, 10, 100, 1000]\n",
        "kernel = 'rbf'\n",
        "gamma = 'scale'\n",
        "\n",
        "# Creamos los diferentes modelos SVC\n",
        "svc = [SVC(C=i, kernel=kernel, gamma=gamma) for i in C]\n",
        "y_predictions_SVC_train = []\n",
        "y_predictions_SVC_test = []\n",
        "y_predictions_SVC_test_best = []\n",
        "\n",
        "print(svc)"
      ],
      "metadata": {
        "colab": {
          "base_uri": "https://localhost:8080/"
        },
        "id": "yVUtK9O0j2DJ",
        "outputId": "b38f6711-981a-4954-f370-fc5efc3df554"
      },
      "id": "yVUtK9O0j2DJ",
      "execution_count": null,
      "outputs": [
        {
          "output_type": "stream",
          "name": "stdout",
          "text": [
            "[SVC(C=0.1), SVC(C=1), SVC(C=10), SVC(C=100), SVC(C=1000)]\n"
          ]
        }
      ]
    },
    {
      "cell_type": "code",
      "source": [
        "# Entrenamos los modelos\n",
        "for i in range(len(svc)):\n",
        "    svc[i].fit(X_train, y_train)"
      ],
      "metadata": {
        "id": "JWxTeHu2kEh9"
      },
      "id": "JWxTeHu2kEh9",
      "execution_count": null,
      "outputs": []
    },
    {
      "cell_type": "markdown",
      "source": [
        "**UTILIDAD DEL MODELO**\n",
        "\n",
        "Hemos elegido usar una SVM dado su uso frecuente en la tarea de clasificación de textos y así comprobar su utilidad. Este modelo construirá un hiperplano en el feature space de las variables independientes para separar dos espacios geométricos que corresponderán a mensajes de odio o no odio. En nuestro caso como nos hemos quedado con 15 variables será un espacio con suficiente dimensionalidad para que los datos sean separables por un hiperplano. Aún así usamos un truco kernel para asegurarnos de ello y maximizar el margen.\n",
        "\n",
        "Estos modelos suelen ser computacionalmente costosos, pero como en nuestro caso tenemos un dataset relativamente pequeño y hemos delimitado a unas variables las entradas del modelo aligeraremos esa carga. También facilita el entrenamiento el hecho de que las variables A, B, C, D y E estén estandárizadas ya que SVM depende de la escala de los datos para separar-los."
      ],
      "metadata": {
        "id": "kLTzJKdkd39I"
      },
      "id": "kLTzJKdkd39I"
    },
    {
      "cell_type": "markdown",
      "id": "a8950b08-3342-444b-a4bf-bb06d2052562",
      "metadata": {
        "id": "a8950b08-3342-444b-a4bf-bb06d2052562"
      },
      "source": [
        "## EVALUACIÓN DE LOS MODELOS Y COMPARATIVA"
      ]
    },
    {
      "cell_type": "markdown",
      "source": [
        "### Bayes"
      ],
      "metadata": {
        "id": "p0AeIb6NKWj7"
      },
      "id": "p0AeIb6NKWj7"
    },
    {
      "cell_type": "code",
      "source": [
        "# Hacer predicciones\n",
        "y_pred = nb_classifier.predict(X_test)\n",
        "\n",
        "# Evaluar precisión\n",
        "accuracy = accuracy_score(y_test, y_pred)\n",
        "print(f'Precisión del modelo: {accuracy:.2f}')"
      ],
      "metadata": {
        "colab": {
          "base_uri": "https://localhost:8080/"
        },
        "id": "yYxa8SEwIsOC",
        "outputId": "d1ed9dd4-0b78-47a2-c0a2-8ccd256454a7"
      },
      "id": "yYxa8SEwIsOC",
      "execution_count": null,
      "outputs": [
        {
          "output_type": "stream",
          "name": "stdout",
          "text": [
            "Precisión del modelo: 0.89\n"
          ]
        }
      ]
    },
    {
      "cell_type": "code",
      "source": [
        "print(classification_report(y_test, y_pred))"
      ],
      "metadata": {
        "colab": {
          "base_uri": "https://localhost:8080/"
        },
        "id": "YxWtKx8jJX_d",
        "outputId": "d3a9a3aa-f892-47c1-a403-b943053d7225"
      },
      "id": "YxWtKx8jJX_d",
      "execution_count": null,
      "outputs": [
        {
          "output_type": "stream",
          "name": "stdout",
          "text": [
            "              precision    recall  f1-score   support\n",
            "\n",
            "         0.0       0.99      0.79      0.88       984\n",
            "         1.0       0.81      1.00      0.90       909\n",
            "\n",
            "    accuracy                           0.89      1893\n",
            "   macro avg       0.90      0.89      0.89      1893\n",
            "weighted avg       0.91      0.89      0.89      1893\n",
            "\n"
          ]
        }
      ]
    },
    {
      "cell_type": "code",
      "source": [
        "X_pred = nb_classifier.predict(X_train)\n",
        "\n",
        "accuracy = accuracy_score(y_train, X_pred)\n",
        "print(f'Precisión del modelo: {accuracy:.2f}')"
      ],
      "metadata": {
        "colab": {
          "base_uri": "https://localhost:8080/"
        },
        "id": "XcrQoaCeK175",
        "outputId": "9fdcdec0-a739-47ae-a459-bc43128db7ba"
      },
      "id": "XcrQoaCeK175",
      "execution_count": null,
      "outputs": [
        {
          "output_type": "stream",
          "name": "stdout",
          "text": [
            "Precisión del modelo: 0.89\n"
          ]
        }
      ]
    },
    {
      "cell_type": "code",
      "source": [
        "print(classification_report(y_train, X_pred))"
      ],
      "metadata": {
        "colab": {
          "base_uri": "https://localhost:8080/"
        },
        "id": "LWazzTdCLNI5",
        "outputId": "e182a373-b00d-454c-c3a1-1357a8d58245"
      },
      "id": "LWazzTdCLNI5",
      "execution_count": null,
      "outputs": [
        {
          "output_type": "stream",
          "name": "stdout",
          "text": [
            "              precision    recall  f1-score   support\n",
            "\n",
            "         0.0       0.99      0.79      0.88      3986\n",
            "         1.0       0.81      0.99      0.89      3582\n",
            "\n",
            "    accuracy                           0.89      7568\n",
            "   macro avg       0.90      0.89      0.89      7568\n",
            "weighted avg       0.91      0.89      0.89      7568\n",
            "\n"
          ]
        }
      ]
    },
    {
      "cell_type": "markdown",
      "source": [
        "**Resultado**\n",
        "\n",
        "Como podemos ver, hemos conseguido un porcentaje de acierto del 89%, lo cual es un porcentaje bastante alto. Un aspecto positivo es que no hay sobre aprendizaje. Si comparas los resultados con los otros modelos, podemos ver que no son tan buenos como los demás."
      ],
      "metadata": {
        "id": "-zmD3zzjlIOI"
      },
      "id": "-zmD3zzjlIOI"
    },
    {
      "cell_type": "markdown",
      "source": [
        "### Random Forest"
      ],
      "metadata": {
        "id": "Ly_ahKG-kiXt"
      },
      "id": "Ly_ahKG-kiXt"
    },
    {
      "cell_type": "code",
      "execution_count": null,
      "id": "qLovw6gJUAPr",
      "metadata": {
        "colab": {
          "base_uri": "https://localhost:8080/"
        },
        "id": "qLovw6gJUAPr",
        "outputId": "6444bc2b-b432-40fd-bf79-780892f7c3d2"
      },
      "outputs": [
        {
          "output_type": "stream",
          "name": "stdout",
          "text": [
            "Acurracy con los datos de entrenamiento\n",
            "Modelo con número de árboles=5: 0.983747357293869\n",
            "Modelo con número de árboles=10: 0.9841437632135307\n",
            "Modelo con número de árboles=20: 0.9842758985200846\n",
            "Modelo con número de árboles=50: 0.9842758985200846\n",
            "Modelo con número de árboles=100: 0.9842758985200846\n"
          ]
        }
      ],
      "source": [
        "print('Acurracy con los datos de entrenamiento')\n",
        "for modelo, arboles in zip(rf_fit, n_arboles):\n",
        "    print(f\"Modelo con número de árboles={arboles}: {modelo.score(X_train, y_train)}\")"
      ]
    },
    {
      "cell_type": "code",
      "source": [
        "print('Acurracy con los datos de test')\n",
        "for modelo, arboles in zip(rf_fit, n_arboles):\n",
        "    print(f\"Modelo con número de árboles={arboles}: {modelo.score(X_test, y_test)}\")"
      ],
      "metadata": {
        "colab": {
          "base_uri": "https://localhost:8080/"
        },
        "id": "L7anfipiLz2V",
        "outputId": "de192282-8b61-4f03-c21f-f54bc807c8af"
      },
      "id": "L7anfipiLz2V",
      "execution_count": null,
      "outputs": [
        {
          "output_type": "stream",
          "name": "stdout",
          "text": [
            "Acurracy con los datos de entrenamiento\n",
            "Modelo con número de árboles=5: 0.9741151611199155\n",
            "Modelo con número de árboles=10: 0.9756999471737982\n",
            "Modelo con número de árboles=20: 0.9756999471737982\n",
            "Modelo con número de árboles=50: 0.9762282091917591\n",
            "Modelo con número de árboles=100: 0.9756999471737982\n"
          ]
        }
      ]
    },
    {
      "cell_type": "code",
      "execution_count": null,
      "id": "-zOyvg0oU9vD",
      "metadata": {
        "colab": {
          "base_uri": "https://localhost:8080/"
        },
        "id": "-zOyvg0oU9vD",
        "outputId": "e97fd199-c14f-45d8-955c-1d7e0bd90f4e"
      },
      "outputs": [
        {
          "output_type": "stream",
          "name": "stdout",
          "text": [
            "Modelo con un nímero de árboles =5:\n",
            "              precision    recall  f1-score   support\n",
            "\n",
            "         0.0       0.98      0.98      0.98      3986\n",
            "         1.0       0.98      0.98      0.98      3582\n",
            "\n",
            "    accuracy                           0.98      7568\n",
            "   macro avg       0.98      0.98      0.98      7568\n",
            "weighted avg       0.98      0.98      0.98      7568\n",
            "\n",
            "\n",
            "\n",
            "Modelo con un nímero de árboles =10:\n",
            "              precision    recall  f1-score   support\n",
            "\n",
            "         0.0       0.98      0.99      0.98      3986\n",
            "         1.0       0.98      0.98      0.98      3582\n",
            "\n",
            "    accuracy                           0.98      7568\n",
            "   macro avg       0.98      0.98      0.98      7568\n",
            "weighted avg       0.98      0.98      0.98      7568\n",
            "\n",
            "\n",
            "\n",
            "Modelo con un nímero de árboles =20:\n",
            "              precision    recall  f1-score   support\n",
            "\n",
            "         0.0       0.98      0.99      0.99      3986\n",
            "         1.0       0.98      0.98      0.98      3582\n",
            "\n",
            "    accuracy                           0.98      7568\n",
            "   macro avg       0.98      0.98      0.98      7568\n",
            "weighted avg       0.98      0.98      0.98      7568\n",
            "\n",
            "\n",
            "\n",
            "Modelo con un nímero de árboles =50:\n",
            "              precision    recall  f1-score   support\n",
            "\n",
            "         0.0       0.98      0.99      0.99      3986\n",
            "         1.0       0.98      0.98      0.98      3582\n",
            "\n",
            "    accuracy                           0.98      7568\n",
            "   macro avg       0.98      0.98      0.98      7568\n",
            "weighted avg       0.98      0.98      0.98      7568\n",
            "\n",
            "\n",
            "\n",
            "Modelo con un nímero de árboles =100:\n",
            "              precision    recall  f1-score   support\n",
            "\n",
            "         0.0       0.98      0.99      0.99      3986\n",
            "         1.0       0.98      0.98      0.98      3582\n",
            "\n",
            "    accuracy                           0.98      7568\n",
            "   macro avg       0.98      0.98      0.98      7568\n",
            "weighted avg       0.98      0.98      0.98      7568\n",
            "\n",
            "\n",
            "\n"
          ]
        }
      ],
      "source": [
        "from sklearn.metrics import classification_report\n",
        "\n",
        "for modelo_rf, arboles in zip(rf_fit, n_arboles):\n",
        "    Y_pred = modelo_rf.predict(X_train)\n",
        "    print(f\"Modelo con un nímero de árboles ={arboles}:\")\n",
        "    print(classification_report(y_train, Y_pred))\n",
        "    print(\"\\n\")"
      ]
    },
    {
      "cell_type": "code",
      "execution_count": null,
      "id": "4ac31c2a-8137-40fa-b8a2-46a3378cc9b1",
      "metadata": {
        "id": "4ac31c2a-8137-40fa-b8a2-46a3378cc9b1",
        "colab": {
          "base_uri": "https://localhost:8080/"
        },
        "outputId": "6c1d7098-1a8d-44ad-abf6-c46cac6dedcb"
      },
      "outputs": [
        {
          "output_type": "stream",
          "name": "stdout",
          "text": [
            "Modelo con un nímero de árboles =5:\n",
            "              precision    recall  f1-score   support\n",
            "\n",
            "         0.0       0.98      0.97      0.98       984\n",
            "         1.0       0.97      0.97      0.97       909\n",
            "\n",
            "    accuracy                           0.97      1893\n",
            "   macro avg       0.97      0.97      0.97      1893\n",
            "weighted avg       0.97      0.97      0.97      1893\n",
            "\n",
            "\n",
            "\n",
            "Modelo con un nímero de árboles =10:\n",
            "              precision    recall  f1-score   support\n",
            "\n",
            "         0.0       0.97      0.98      0.98       984\n",
            "         1.0       0.98      0.97      0.97       909\n",
            "\n",
            "    accuracy                           0.98      1893\n",
            "   macro avg       0.98      0.98      0.98      1893\n",
            "weighted avg       0.98      0.98      0.98      1893\n",
            "\n",
            "\n",
            "\n",
            "Modelo con un nímero de árboles =20:\n",
            "              precision    recall  f1-score   support\n",
            "\n",
            "         0.0       0.98      0.98      0.98       984\n",
            "         1.0       0.97      0.97      0.97       909\n",
            "\n",
            "    accuracy                           0.98      1893\n",
            "   macro avg       0.98      0.98      0.98      1893\n",
            "weighted avg       0.98      0.98      0.98      1893\n",
            "\n",
            "\n",
            "\n",
            "Modelo con un nímero de árboles =50:\n",
            "              precision    recall  f1-score   support\n",
            "\n",
            "         0.0       0.98      0.98      0.98       984\n",
            "         1.0       0.98      0.97      0.98       909\n",
            "\n",
            "    accuracy                           0.98      1893\n",
            "   macro avg       0.98      0.98      0.98      1893\n",
            "weighted avg       0.98      0.98      0.98      1893\n",
            "\n",
            "\n",
            "\n",
            "Modelo con un nímero de árboles =100:\n",
            "              precision    recall  f1-score   support\n",
            "\n",
            "         0.0       0.97      0.98      0.98       984\n",
            "         1.0       0.98      0.97      0.97       909\n",
            "\n",
            "    accuracy                           0.98      1893\n",
            "   macro avg       0.98      0.98      0.98      1893\n",
            "weighted avg       0.98      0.98      0.98      1893\n",
            "\n",
            "\n",
            "\n"
          ]
        }
      ],
      "source": [
        "for modelo_rf, arboles in zip(rf_fit, n_arboles):\n",
        "    Y_pred = modelo_rf.predict(X_test)\n",
        "    print(f\"Modelo con un nímero de árboles ={arboles}:\")\n",
        "    print(classification_report(y_test, Y_pred))\n",
        "    print(\"\\n\")"
      ]
    },
    {
      "cell_type": "markdown",
      "source": [
        "**RESULTADO**"
      ],
      "metadata": {
        "id": "1C2ml_NxcRr4"
      },
      "id": "1C2ml_NxcRr4"
    },
    {
      "cell_type": "markdown",
      "source": [
        "De forma general los resultados obtenidos han sido bastante buenos tanto en los datos de entrenamiento como para los de test, siendo esto una clara muestra de que nuestro modelo no tiene overfitting. Por otro lado, si observamos métricas como precisión o recall también se han obtenido valores muy buenos, que pueden ser traducidos como que nuestro modelo genera pocos falsos positivos y falsos negativos. El rendiemineto obtenido para ambas clases es muy parecido y no se observa ninguna clase con un rendimineto superior. Respecto al número de árboles, se puede afirmar que aumentar el número de estos no proporciona ninguna ventaja, lo único que provocaría sería un coste computacional mayor."
      ],
      "metadata": {
        "id": "c925qrcicU8Q"
      },
      "id": "c925qrcicU8Q"
    },
    {
      "cell_type": "markdown",
      "source": [
        "### SVM"
      ],
      "metadata": {
        "id": "6R6Xpfp5kYLl"
      },
      "id": "6R6Xpfp5kYLl"
    },
    {
      "cell_type": "code",
      "source": [
        "for i in range(len(svc)):\n",
        "    y_predictions_SVC_train.append(svc[i].predict(X_train))\n",
        "    y_predictions_SVC_test.append(svc[i].predict(X_test))\n",
        "\n",
        "    print(f\"Precisión del modelo SVC en el dataset de entrenamiento (C={C[i]}): {svc[i].score(X_train, y_train):.3f}\")\n",
        "\n",
        "    print(f\"Precisión del modelo SVC en el dataset de test (C={C[i]}): {svc[i].score(X_test, y_test):.3f}\")\n",
        "\n",
        "    print()"
      ],
      "metadata": {
        "colab": {
          "base_uri": "https://localhost:8080/"
        },
        "id": "JRI1pqSCkOCU",
        "outputId": "e26a46cd-c28d-44a5-bc65-9ef0d94868a5"
      },
      "id": "JRI1pqSCkOCU",
      "execution_count": null,
      "outputs": [
        {
          "output_type": "stream",
          "name": "stdout",
          "text": [
            "Precisión del modelo SVC en el dataset de entrenamiento (C=0.1): 0.944\n",
            "Precisión del modelo SVC en el dataset de test (C=0.1): 0.945\n",
            "\n",
            "Precisión del modelo SVC en el dataset de entrenamiento (C=1): 0.956\n",
            "Precisión del modelo SVC en el dataset de test (C=1): 0.958\n",
            "\n",
            "Precisión del modelo SVC en el dataset de entrenamiento (C=10): 0.972\n",
            "Precisión del modelo SVC en el dataset de test (C=10): 0.974\n",
            "\n",
            "Precisión del modelo SVC en el dataset de entrenamiento (C=100): 0.976\n",
            "Precisión del modelo SVC en el dataset de test (C=100): 0.975\n",
            "\n",
            "Precisión del modelo SVC en el dataset de entrenamiento (C=1000): 0.976\n",
            "Precisión del modelo SVC en el dataset de test (C=1000): 0.974\n",
            "\n"
          ]
        }
      ]
    },
    {
      "cell_type": "code",
      "source": [
        "print(\"\")\n",
        "for i in range(len(svc)):\n",
        "    print(f\"Reporte de clasificación del modelo SVC (C={C[i]}):\")\n",
        "    print(classification_report(y_train, y_predictions_SVC_train[i]))\n",
        "    print()"
      ],
      "metadata": {
        "colab": {
          "base_uri": "https://localhost:8080/"
        },
        "id": "8uxMWNEuMrR2",
        "outputId": "9c86491b-a6f2-438f-9d98-d6204200fd56"
      },
      "id": "8uxMWNEuMrR2",
      "execution_count": null,
      "outputs": [
        {
          "output_type": "stream",
          "name": "stdout",
          "text": [
            "Reporte de clasificación del modelo SVC (C=0.1):\n",
            "              precision    recall  f1-score   support\n",
            "\n",
            "         0.0       0.99      0.90      0.94      3986\n",
            "         1.0       0.90      0.99      0.94      3582\n",
            "\n",
            "    accuracy                           0.94      7568\n",
            "   macro avg       0.95      0.95      0.94      7568\n",
            "weighted avg       0.95      0.94      0.94      7568\n",
            "\n",
            "\n",
            "Reporte de clasificación del modelo SVC (C=1):\n",
            "              precision    recall  f1-score   support\n",
            "\n",
            "         0.0       1.00      0.92      0.96      3986\n",
            "         1.0       0.92      1.00      0.96      3582\n",
            "\n",
            "    accuracy                           0.96      7568\n",
            "   macro avg       0.96      0.96      0.96      7568\n",
            "weighted avg       0.96      0.96      0.96      7568\n",
            "\n",
            "\n",
            "Reporte de clasificación del modelo SVC (C=10):\n",
            "              precision    recall  f1-score   support\n",
            "\n",
            "         0.0       1.00      0.95      0.97      3986\n",
            "         1.0       0.95      1.00      0.97      3582\n",
            "\n",
            "    accuracy                           0.97      7568\n",
            "   macro avg       0.97      0.97      0.97      7568\n",
            "weighted avg       0.97      0.97      0.97      7568\n",
            "\n",
            "\n",
            "Reporte de clasificación del modelo SVC (C=100):\n",
            "              precision    recall  f1-score   support\n",
            "\n",
            "         0.0       0.99      0.96      0.98      3986\n",
            "         1.0       0.96      0.99      0.98      3582\n",
            "\n",
            "    accuracy                           0.98      7568\n",
            "   macro avg       0.98      0.98      0.98      7568\n",
            "weighted avg       0.98      0.98      0.98      7568\n",
            "\n",
            "\n",
            "Reporte de clasificación del modelo SVC (C=1000):\n",
            "              precision    recall  f1-score   support\n",
            "\n",
            "         0.0       0.99      0.97      0.98      3986\n",
            "         1.0       0.96      0.99      0.98      3582\n",
            "\n",
            "    accuracy                           0.98      7568\n",
            "   macro avg       0.98      0.98      0.98      7568\n",
            "weighted avg       0.98      0.98      0.98      7568\n",
            "\n",
            "\n"
          ]
        }
      ]
    },
    {
      "cell_type": "code",
      "source": [
        "for i in range(len(svc)):\n",
        "    print(f\"Reporte de clasificación del modelo SVC (C={C[i]}):\")\n",
        "    print(classification_report(y_test, y_predictions_SVC_test[i]))\n",
        "    print()"
      ],
      "metadata": {
        "colab": {
          "base_uri": "https://localhost:8080/"
        },
        "id": "BkfPSZd4lhak",
        "outputId": "21f3e8f3-cbe6-4457-fd60-8d87606e4c6c"
      },
      "id": "BkfPSZd4lhak",
      "execution_count": null,
      "outputs": [
        {
          "output_type": "stream",
          "name": "stdout",
          "text": [
            "Reporte de clasificación del modelo SVC (C=0.1):\n",
            "              precision    recall  f1-score   support\n",
            "\n",
            "         0.0       1.00      0.90      0.94       984\n",
            "         1.0       0.90      1.00      0.95       909\n",
            "\n",
            "    accuracy                           0.94      1893\n",
            "   macro avg       0.95      0.95      0.94      1893\n",
            "weighted avg       0.95      0.94      0.94      1893\n",
            "\n",
            "\n",
            "Reporte de clasificación del modelo SVC (C=1):\n",
            "              precision    recall  f1-score   support\n",
            "\n",
            "         0.0       1.00      0.92      0.96       984\n",
            "         1.0       0.92      1.00      0.96       909\n",
            "\n",
            "    accuracy                           0.96      1893\n",
            "   macro avg       0.96      0.96      0.96      1893\n",
            "weighted avg       0.96      0.96      0.96      1893\n",
            "\n",
            "\n",
            "Reporte de clasificación del modelo SVC (C=10):\n",
            "              precision    recall  f1-score   support\n",
            "\n",
            "         0.0       0.99      0.95      0.97       984\n",
            "         1.0       0.95      0.99      0.97       909\n",
            "\n",
            "    accuracy                           0.97      1893\n",
            "   macro avg       0.97      0.97      0.97      1893\n",
            "weighted avg       0.97      0.97      0.97      1893\n",
            "\n",
            "\n",
            "Reporte de clasificación del modelo SVC (C=100):\n",
            "              precision    recall  f1-score   support\n",
            "\n",
            "         0.0       0.99      0.96      0.98       984\n",
            "         1.0       0.96      0.99      0.97       909\n",
            "\n",
            "    accuracy                           0.98      1893\n",
            "   macro avg       0.98      0.98      0.98      1893\n",
            "weighted avg       0.98      0.98      0.98      1893\n",
            "\n",
            "\n",
            "Reporte de clasificación del modelo SVC (C=1000):\n",
            "              precision    recall  f1-score   support\n",
            "\n",
            "         0.0       0.99      0.96      0.97       984\n",
            "         1.0       0.96      0.99      0.97       909\n",
            "\n",
            "    accuracy                           0.97      1893\n",
            "   macro avg       0.97      0.97      0.97      1893\n",
            "weighted avg       0.97      0.97      0.97      1893\n",
            "\n",
            "\n"
          ]
        }
      ]
    },
    {
      "cell_type": "markdown",
      "source": [
        "**RESULTADOS**\n",
        "\n",
        "Como vemos en los resultados de precisión, no existe overfitting en nuestro modelo ya que la precisión en los datos de entrenamiento y test es casi idéntica.\n",
        "\n",
        "En los diferentes modelos que hemos entrenado con valores de C diferentes tienen todos una precisión muy alta, lo que indica que los datos son fácilmente separables en nuestro feature space. Aún así apreciamos que con los valores de C más altos ganamos un pequeño porcentaje más de precisión. Con este parámetro indicamos al modelo que queremos maximizar el margen que separa los datos de ambas clases y es este hecho el que nos da esta ganancia en la precisión."
      ],
      "metadata": {
        "id": "wd-MkRaOgjXv"
      },
      "id": "wd-MkRaOgjXv"
    }
  ],
  "metadata": {
    "colab": {
      "provenance": [],
      "include_colab_link": true
    },
    "kernelspec": {
      "display_name": "Python 3 (ipykernel)",
      "language": "python",
      "name": "python3"
    },
    "language_info": {
      "codemirror_mode": {
        "name": "ipython",
        "version": 3
      },
      "file_extension": ".py",
      "mimetype": "text/x-python",
      "name": "python",
      "nbconvert_exporter": "python",
      "pygments_lexer": "ipython3",
      "version": "3.8.18"
    }
  },
  "nbformat": 4,
  "nbformat_minor": 5
}